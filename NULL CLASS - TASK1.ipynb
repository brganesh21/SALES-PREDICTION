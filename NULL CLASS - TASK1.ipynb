{
 "cells": [
  {
   "cell_type": "code",
   "execution_count": 1,
   "id": "68eede27-688e-4607-a462-9c9dd056f015",
   "metadata": {},
   "outputs": [],
   "source": [
    "import pandas as pd\n",
    "from statsmodels.tsa.arima.model import ARIMA\n",
    "from sklearn.metrics import mean_absolute_error, mean_squared_error\n",
    "import numpy as np"
   ]
  },
  {
   "cell_type": "code",
   "execution_count": 2,
   "id": "7738c66a-2141-4917-b7c8-d5b46fa3f139",
   "metadata": {},
   "outputs": [
    {
     "name": "stdout",
     "output_type": "stream",
     "text": [
      "\n",
      "Total Sales per Quarter:\n",
      "  quarter  qty_ordered\n",
      "0  2021Q1          715\n",
      "1  2021Q2          529\n",
      "2  2021Q3         1738\n",
      "3  2021Q4         2285\n",
      "4  2022Q1         2240\n",
      "5  2022Q2         2534\n",
      "6  2022Q3         2986\n",
      "7  2022Q4          501\n"
     ]
    }
   ],
   "source": [
    "# Load the dataset\n",
    "file_path = \"C:/Users/Ganes/OneDrive/salestable.csv\"\n",
    "df = pd.read_csv(file_path)\n",
    "\n",
    "# Rename column if necessary\n",
    "df.rename(columns={'qty_orderded': 'qty_ordered'}, inplace=True)\n",
    "\n",
    "# Convert 'order_date' to datetime format\n",
    "df['order_date'] = pd.to_datetime(df['order_date'])\n",
    "\n",
    "# Extract year and month\n",
    "df['year_month'] = df['order_date'].dt.to_period('M')\n",
    "\n",
    "# Aggregate total sales quantity per month\n",
    "monthly_sales = df.groupby('year_month')['qty_ordered'].sum().reset_index()\n",
    "\n",
    "# Convert 'year_month' to datetime for modeling\n",
    "monthly_sales['year_month'] = monthly_sales['year_month'].astype(str)\n",
    "monthly_sales['year_month'] = pd.to_datetime(monthly_sales['year_month'])\n",
    "\n",
    "# Compute total sales per quarter\n",
    "monthly_sales['quarter'] = monthly_sales['year_month'].dt.to_period('Q')\n",
    "quarterly_sales = monthly_sales.groupby('quarter')['qty_ordered'].sum().reset_index()\n",
    "\n",
    "# Print total sales per quarter\n",
    "print(\"\\nTotal Sales per Quarter:\")\n",
    "print(quarterly_sales)"
   ]
  },
  {
   "cell_type": "code",
   "execution_count": 5,
   "id": "abdc8c7c-8825-4381-a0fd-5a3baba785d6",
   "metadata": {},
   "outputs": [
    {
     "name": "stderr",
     "output_type": "stream",
     "text": [
      "c:\\Users\\Ganes\\AppData\\Local\\Programs\\Python\\Python312\\Lib\\site-packages\\statsmodels\\tsa\\base\\tsa_model.py:473: ValueWarning: An unsupported index was provided. As a result, forecasts cannot be generated. To use the model for forecasting, use one of the supported classes of index.\n",
      "  self._init_dates(dates, freq)\n",
      "c:\\Users\\Ganes\\AppData\\Local\\Programs\\Python\\Python312\\Lib\\site-packages\\statsmodels\\tsa\\base\\tsa_model.py:473: ValueWarning: An unsupported index was provided. As a result, forecasts cannot be generated. To use the model for forecasting, use one of the supported classes of index.\n",
      "  self._init_dates(dates, freq)\n",
      "c:\\Users\\Ganes\\AppData\\Local\\Programs\\Python\\Python312\\Lib\\site-packages\\statsmodels\\tsa\\base\\tsa_model.py:473: ValueWarning: An unsupported index was provided. As a result, forecasts cannot be generated. To use the model for forecasting, use one of the supported classes of index.\n",
      "  self._init_dates(dates, freq)\n",
      "c:\\Users\\Ganes\\AppData\\Local\\Programs\\Python\\Python312\\Lib\\site-packages\\statsmodels\\tsa\\statespace\\sarimax.py:978: UserWarning: Non-invertible starting MA parameters found. Using zeros as starting parameters.\n",
      "  warn('Non-invertible starting MA parameters found.'\n",
      "c:\\Users\\Ganes\\AppData\\Local\\Programs\\Python\\Python312\\Lib\\site-packages\\statsmodels\\tsa\\base\\tsa_model.py:837: ValueWarning: No supported index is available. Prediction results will be given with an integer index beginning at `start`.\n",
      "  return get_prediction_index(\n",
      "c:\\Users\\Ganes\\AppData\\Local\\Programs\\Python\\Python312\\Lib\\site-packages\\statsmodels\\tsa\\base\\tsa_model.py:837: FutureWarning: No supported index is available. In the next version, calling this method in a model without a supported index will result in an exception.\n",
      "  return get_prediction_index(\n"
     ]
    },
    {
     "name": "stdout",
     "output_type": "stream",
     "text": [
      "\n",
      "Predictions for Q2 2023:\n",
      "   year_month  predicted_qty_ordered\n",
      "12 2023-04-01             407.742889\n",
      "13 2023-05-01             602.260106\n",
      "14 2023-06-01             608.009291\n",
      "\n",
      "Model Evaluation:\n",
      "MAE: 401.54\n",
      "RMSE: 429.75\n"
     ]
    }
   ],
   "source": [
    "# Filter data for 2022 (training data)\n",
    "train_data = monthly_sales[(monthly_sales['year_month'] >= '2022-01-01') & \n",
    "                           (monthly_sales['year_month'] <= '2022-12-01')]\n",
    "\n",
    "# Fit an ARIMA model (AutoRegressive Integrated Moving Average)\n",
    "model = ARIMA(train_data['qty_ordered'], order=(2,1,2))  # Using ARIMA(2,1,2) as an initial guess\n",
    "model_fit = model.fit()\n",
    "\n",
    "# Forecast for Q2 2023 (April, May, June)\n",
    "forecast_steps = 3\n",
    "forecast = model_fit.forecast(steps=forecast_steps)\n",
    "\n",
    "# Create a date range for Q2 2023\n",
    "forecast_dates = pd.date_range(start='2023-04-01', periods=forecast_steps, freq='MS')\n",
    "\n",
    "# Combine results into a DataFrame\n",
    "forecast_df = pd.DataFrame({'year_month': forecast_dates, 'predicted_qty_ordered': forecast})\n",
    "\n",
    "# Model Evaluation\n",
    "actual_data = monthly_sales[(monthly_sales['year_month'] >= '2022-10-01') &\n",
    "                            (monthly_sales['year_month'] <= '2022-12-01')]\n",
    "\n",
    "mae = mean_absolute_error(actual_data['qty_ordered'], model_fit.fittedvalues[-3:])\n",
    "rmse = np.sqrt(mean_squared_error(actual_data['qty_ordered'], model_fit.fittedvalues[-3:]))\n",
    "\n",
    "# Print results\n",
    "print(\"\\nPredictions for Q2 2023:\")\n",
    "print(forecast_df)\n",
    "print(f\"\\nModel Evaluation:\")\n",
    "print(f\"MAE: {mae:.2f}\")\n",
    "print(f\"RMSE: {rmse:.2f}\")"
   ]
  },
  {
   "cell_type": "code",
   "execution_count": null,
   "id": "11bdc227-6b3f-4deb-927b-eef8e9116637",
   "metadata": {},
   "outputs": [],
   "source": []
  }
 ],
 "metadata": {
  "kernelspec": {
   "display_name": "Python 3",
   "language": "python",
   "name": "python3"
  },
  "language_info": {
   "codemirror_mode": {
    "name": "ipython",
    "version": 3
   },
   "file_extension": ".py",
   "mimetype": "text/x-python",
   "name": "python",
   "nbconvert_exporter": "python",
   "pygments_lexer": "ipython3",
   "version": "3.12.2"
  }
 },
 "nbformat": 4,
 "nbformat_minor": 5
}
